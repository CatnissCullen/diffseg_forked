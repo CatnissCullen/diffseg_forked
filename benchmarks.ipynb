{
  "cells": [
    {
      "cell_type": "markdown",
      "metadata": {
        "id": "1NJCZtpiWAHX"
      },
      "source": [
        "Copyright 2023 Google LLC\n",
        "\n",
        "Use of this source code is governed by an MIT-style\n",
        "license that can be found in the LICENSE file or at\n",
        "https://opensource.org/licenses/MIT.\n",
        "\n",
        "1. Download CoCo-Stuff [annotations](http://calvin.inf.ed.ac.uk/wp-content/uploads/data/cocostuffdataset/stuffthingmaps_trainval2017.zip) and [val images](http://images.cocodataset.org/zips/val2017.zip).\n",
        "*  Please first download the [annotations](http://calvin.inf.ed.ac.uk/wp-content/uploads/data/cocostuffdataset/stuffthingmaps_trainval2017.zip) and rename `val2017` to `annotation_val2017`.\n",
        "\n",
        "\n",
        "2.  Download [Cityscapes](https://www.cityscapes-dataset.com/).\n",
        "* Cityscapes download requires login.\n",
        "* Please download `leftImg8bit_trainvaltest.zip` and `gtFine_trainvaltest.zip` to your data folder.\n",
        "\n",
        "3. Please run the cells in order and choose 2a or 2b, not both.\n",
        "* 2a: load CoCo-Stuff data.\n",
        "* 2b: load Cityscapes data.\n",
        "\n",
        "4. Metrics\n",
        "* The inference code will return pixel accuracy (ACC) and mean IoU (mIoU)."
      ]
    },
    {
      "cell_type": "markdown",
      "metadata": {
        "id": "Yq63OpI2PCka"
      },
      "source": [
        "# Imports"
      ]
    },
    {
      "cell_type": "code",
      "execution_count": 1,
      "metadata": {
        "id": "LJia4pK2MGju"
      },
      "outputs": [
        {
          "name": "stderr",
          "output_type": "stream",
          "text": [
            "2023-12-26 17:29:16.217399: E tensorflow/compiler/xla/stream_executor/cuda/cuda_dnn.cc:9342] Unable to register cuDNN factory: Attempting to register factory for plugin cuDNN when one has already been registered\n",
            "2023-12-26 17:29:16.217429: E tensorflow/compiler/xla/stream_executor/cuda/cuda_fft.cc:609] Unable to register cuFFT factory: Attempting to register factory for plugin cuFFT when one has already been registered\n",
            "2023-12-26 17:29:16.217479: E tensorflow/compiler/xla/stream_executor/cuda/cuda_blas.cc:1518] Unable to register cuBLAS factory: Attempting to register factory for plugin cuBLAS when one has already been registered\n",
            "2023-12-26 17:29:16.225945: I tensorflow/core/platform/cpu_feature_guard.cc:182] This TensorFlow binary is optimized to use available CPU instructions in performance-critical operations.\n",
            "To enable the following instructions: AVX2 AVX512F FMA, in other operations, rebuild TensorFlow with the appropriate compiler flags.\n"
          ]
        },
        {
          "name": "stdout",
          "output_type": "stream",
          "text": [
            "Using TensorFlow backend\n"
          ]
        },
        {
          "name": "stderr",
          "output_type": "stream",
          "text": [
            "/home/jtian73/miniconda3/envs/diffseg/lib/python3.9/site-packages/tqdm/auto.py:21: TqdmWarning: IProgress not found. Please update jupyter and ipywidgets. See https://ipywidgets.readthedocs.io/en/stable/user_install.html\n",
            "  from .autonotebook import tqdm as notebook_tqdm\n",
            "2023-12-26 17:29:21.635707: I tensorflow/core/common_runtime/gpu/gpu_device.cc:1886] Created device /job:localhost/replica:0/task:0/device:GPU:0 with 9613 MB memory:  -> device: 0, name: NVIDIA GeForce RTX 2080 Ti, pci bus id: 0000:17:00.0, compute capability: 7.5\n",
            "2023-12-26 17:29:21.636562: I tensorflow/core/common_runtime/gpu/gpu_device.cc:1886] Created device /job:localhost/replica:0/task:0/device:GPU:1 with 9621 MB memory:  -> device: 1, name: NVIDIA GeForce RTX 2080 Ti, pci bus id: 0000:65:00.0, compute capability: 7.5\n",
            "2023-12-26 17:29:21.637258: I tensorflow/core/common_runtime/gpu/gpu_device.cc:1886] Created device /job:localhost/replica:0/task:0/device:GPU:2 with 9624 MB memory:  -> device: 2, name: NVIDIA GeForce RTX 2080 Ti, pci bus id: 0000:b3:00.0, compute capability: 7.5\n"
          ]
        },
        {
          "name": "stdout",
          "output_type": "stream",
          "text": [
            "Tue Dec 26 17:29:22 2023       \n",
            "+-----------------------------------------------------------------------------+\n",
            "| NVIDIA-SMI 470.182.03   Driver Version: 470.182.03   CUDA Version: 11.4     |\n",
            "|-------------------------------+----------------------+----------------------+\n",
            "| GPU  Name        Persistence-M| Bus-Id        Disp.A | Volatile Uncorr. ECC |\n",
            "| Fan  Temp  Perf  Pwr:Usage/Cap|         Memory-Usage | GPU-Util  Compute M. |\n",
            "|                               |                      |               MIG M. |\n",
            "|===============================+======================+======================|\n",
            "|   0  NVIDIA GeForce ...  Off  | 00000000:17:00.0 Off |                  N/A |\n",
            "| 31%   51C    P2    66W / 250W |   9970MiB / 11019MiB |      0%      Default |\n",
            "|                               |                      |                  N/A |\n",
            "+-------------------------------+----------------------+----------------------+\n",
            "|   1  NVIDIA GeForce ...  Off  | 00000000:65:00.0 Off |                  N/A |\n",
            "| 30%   44C    P2    65W / 250W |    345MiB / 11016MiB |      1%      Default |\n",
            "|                               |                      |                  N/A |\n",
            "+-------------------------------+----------------------+----------------------+\n",
            "|   2  NVIDIA GeForce ...  Off  | 00000000:B3:00.0 Off |                  N/A |\n",
            "| 30%   40C    P2    69W / 250W |    345MiB / 11019MiB |      3%      Default |\n",
            "|                               |                      |                  N/A |\n",
            "+-------------------------------+----------------------+----------------------+\n",
            "                                                                               \n",
            "+-----------------------------------------------------------------------------+\n",
            "| Processes:                                                                  |\n",
            "|  GPU   GI   CI        PID   Type   Process name                  GPU Memory |\n",
            "|        ID   ID                                                   Usage      |\n",
            "|=============================================================================|\n",
            "|    0   N/A  N/A      1643      G   /usr/lib/xorg/Xorg                  9MiB |\n",
            "|    0   N/A  N/A      1761      G   /usr/bin/gnome-shell                6MiB |\n",
            "|    0   N/A  N/A     16501      C   ...3/envs/diffseg/bin/python     9949MiB |\n",
            "|    1   N/A  N/A      1643      G   /usr/lib/xorg/Xorg                  5MiB |\n",
            "|    1   N/A  N/A     16501      C   ...3/envs/diffseg/bin/python      335MiB |\n",
            "|    2   N/A  N/A      1643      G   /usr/lib/xorg/Xorg                  5MiB |\n",
            "|    2   N/A  N/A     16501      C   ...3/envs/diffseg/bin/python      335MiB |\n",
            "+-----------------------------------------------------------------------------+\n"
          ]
        }
      ],
      "source": [
        "import tensorflow as tf\n",
        "import numpy as np\n",
        "from tqdm import tqdm\n",
        "from diffseg.segmentor import DiffSeg\n",
        "from keras_cv.src.models.stable_diffusion.image_encoder import ImageEncoder\n",
        "from third_party.keras_cv.stable_diffusion import StableDiffusion \n",
        "from data.cityscapes import cityscapes_data\n",
        "from data.coco import coco_data\n",
        "from diffseg.utils import hungarian_matching\n",
        "\n",
        "!nvidia-smi"
      ]
    },
    {
      "cell_type": "markdown",
      "metadata": {
        "id": "u2dXePdUM0SS"
      },
      "source": [
        "# 1. Initialize SD Model"
      ]
    },
    {
      "cell_type": "code",
      "execution_count": 2,
      "metadata": {
        "id": "aizDc1dRM2-n"
      },
      "outputs": [
        {
          "name": "stdout",
          "output_type": "stream",
          "text": [
            "INFO:tensorflow:Using MirroredStrategy with devices ('/job:localhost/replica:0/task:0/device:GPU:0', '/job:localhost/replica:0/task:0/device:GPU:1', '/job:localhost/replica:0/task:0/device:GPU:2')\n",
            "Number of devices: 3\n",
            "By using this model checkpoint, you acknowledge that its usage is subject to the terms of the CreativeML Open RAIL-M license at https://raw.githubusercontent.com/CompVis/stable-diffusion/main/LICENSE\n"
          ]
        }
      ],
      "source": [
        "# Initialize Stable Diffusion Model on all GPUs.\n",
        "strategy = tf.distribute.MirroredStrategy()\n",
        "print('Number of devices: {}'.format(strategy.num_replicas_in_sync))\n",
        "with strategy.scope():\n",
        "  image_encoder = ImageEncoder()\n",
        "  vae=tf.keras.Model(\n",
        "            image_encoder.input,\n",
        "            image_encoder.layers[-1].output,\n",
        "        )\n",
        "  model = StableDiffusion(img_width=512, img_height=512)"
      ]
    },
    {
      "cell_type": "markdown",
      "metadata": {
        "id": "KxFEgBH-MRqO"
      },
      "source": [
        "# 2a. Load COCO-Stuff Data"
      ]
    },
    {
      "cell_type": "code",
      "execution_count": 3,
      "metadata": {
        "id": "FOfz-QHIMY1w"
      },
      "outputs": [],
      "source": [
        "ROOT = \"../coco_data/\" # Change this directory to your coco data folder.\n",
        "FINE_TO_COARSE_PATH = \"./data/coco/fine_to_coarse_dict.pickle\"\n",
        "BATCH_SIZE = strategy.num_replicas_in_sync\n",
        "\n",
        "# Load fine to coarse label mapping.\n",
        "fine_to_coarse_map = coco_data.get_fine_to_coarse(FINE_TO_COARSE_PATH)\n",
        "\n",
        "# Prepare the coco-stuff validation dataset.\n",
        "file_list = coco_data.load_imdb(\"./data/coco/Coco164kFull_Stuff_Coarse_7.txt\")\n",
        "image_list, label_list = coco_data.create_path(ROOT, file_list)\n",
        "val_dataset = coco_data.prepare_dataset(\n",
        "    image_list, label_list, batch_size=BATCH_SIZE\n",
        ")"
      ]
    },
    {
      "cell_type": "markdown",
      "metadata": {
        "id": "eKmvvYcRMpDW"
      },
      "source": [
        "# 2b. Load Cityscapes Data"
      ]
    },
    {
      "cell_type": "code",
      "execution_count": 4,
      "metadata": {
        "id": "9XtJWMCxMtCX"
      },
      "outputs": [
        {
          "name": "stdout",
          "output_type": "stream",
          "text": [
            "['../cityscapes_data/leftImg8bit/val/frankfurt/frankfurt_000001_013016_leftImg8bit.png', '../cityscapes_data/leftImg8bit/val/frankfurt/frankfurt_000001_023369_leftImg8bit.png', '../cityscapes_data/leftImg8bit/val/frankfurt/frankfurt_000001_004327_leftImg8bit.png', '../cityscapes_data/leftImg8bit/val/frankfurt/frankfurt_000001_035864_leftImg8bit.png', '../cityscapes_data/leftImg8bit/val/frankfurt/frankfurt_000001_082087_leftImg8bit.png', '../cityscapes_data/leftImg8bit/val/frankfurt/frankfurt_000001_067092_leftImg8bit.png', '../cityscapes_data/leftImg8bit/val/frankfurt/frankfurt_000001_015091_leftImg8bit.png', '../cityscapes_data/leftImg8bit/val/frankfurt/frankfurt_000001_025921_leftImg8bit.png', '../cityscapes_data/leftImg8bit/val/frankfurt/frankfurt_000000_022254_leftImg8bit.png', '../cityscapes_data/leftImg8bit/val/frankfurt/frankfurt_000001_055603_leftImg8bit.png'] ['../cityscapes_data/gtFine/val/frankfurt/frankfurt_000001_013016_gtFine_labelIds.png', '../cityscapes_data/gtFine/val/frankfurt/frankfurt_000001_023369_gtFine_labelIds.png', '../cityscapes_data/gtFine/val/frankfurt/frankfurt_000001_004327_gtFine_labelIds.png', '../cityscapes_data/gtFine/val/frankfurt/frankfurt_000001_035864_gtFine_labelIds.png', '../cityscapes_data/gtFine/val/frankfurt/frankfurt_000001_082087_gtFine_labelIds.png', '../cityscapes_data/gtFine/val/frankfurt/frankfurt_000001_067092_gtFine_labelIds.png', '../cityscapes_data/gtFine/val/frankfurt/frankfurt_000001_015091_gtFine_labelIds.png', '../cityscapes_data/gtFine/val/frankfurt/frankfurt_000001_025921_gtFine_labelIds.png', '../cityscapes_data/gtFine/val/frankfurt/frankfurt_000000_022254_gtFine_labelIds.png', '../cityscapes_data/gtFine/val/frankfurt/frankfurt_000001_055603_gtFine_labelIds.png']\n"
          ]
        }
      ],
      "source": [
        "ROOT = \"../cityscapes_data/\"\n",
        "BATCH_SIZE = strategy.num_replicas_in_sync\n",
        "\n",
        "# Load fine to coarse label mapping.\n",
        "fine_to_coarse_map = cityscapes_data.get_fine_to_coarse()\n",
        "\n",
        "# Prepare the cityscapes validation dataset.\n",
        "image_list, label_list = cityscapes_data.create_path(ROOT)\n",
        "val_dataset = cityscapes_data.prepare_dataset(\n",
        "    image_list, label_list, batch_size=BATCH_SIZE\n",
        ")"
      ]
    },
    {
      "cell_type": "markdown",
      "metadata": {
        "id": "sjopCVKLNFTp"
      },
      "source": [
        "# 3. Run Inference"
      ]
    },
    {
      "cell_type": "code",
      "execution_count": 5,
      "metadata": {
        "id": "WYtn8g7INKy5"
      },
      "outputs": [
        {
          "name": "stderr",
          "output_type": "stream",
          "text": [
            "  0%|          | 0/167 [00:00<?, ?it/s]2023-12-26 17:29:28.217775: I tensorflow/compiler/xla/stream_executor/cuda/cuda_dnn.cc:442] Loaded cuDNN version 8700\n",
            "2023-12-26 17:29:28.901734: I tensorflow/tsl/platform/default/subprocess.cc:304] Start cannot spawn child process: No such file or directory\n",
            "2023-12-26 17:29:29.032288: I tensorflow/tsl/platform/default/subprocess.cc:304] Start cannot spawn child process: No such file or directory\n",
            "2023-12-26 17:30:53.792349: W tensorflow/tsl/framework/bfc_allocator.cc:296] Allocator (GPU_0_bfc) ran out of memory trying to allocate 6.48GiB with freed_by_count=0. The caller indicates that this is not a failure, but this may mean that there could be performance gains if more memory were available.\n",
            "2023-12-26 17:30:53.792409: W tensorflow/tsl/framework/bfc_allocator.cc:296] Allocator (GPU_0_bfc) ran out of memory trying to allocate 6.48GiB with freed_by_count=0. The caller indicates that this is not a failure, but this may mean that there could be performance gains if more memory were available.\n",
            "2023-12-26 17:30:53.994075: W tensorflow/tsl/framework/bfc_allocator.cc:296] Allocator (GPU_0_bfc) ran out of memory trying to allocate 6.69GiB with freed_by_count=0. The caller indicates that this is not a failure, but this may mean that there could be performance gains if more memory were available.\n",
            "2023-12-26 17:30:53.994133: W tensorflow/tsl/framework/bfc_allocator.cc:296] Allocator (GPU_0_bfc) ran out of memory trying to allocate 6.69GiB with freed_by_count=0. The caller indicates that this is not a failure, but this may mean that there could be performance gains if more memory were available.\n",
            "2023-12-26 17:30:54.065330: W tensorflow/tsl/framework/bfc_allocator.cc:296] Allocator (GPU_0_bfc) ran out of memory trying to allocate 6.67GiB with freed_by_count=0. The caller indicates that this is not a failure, but this may mean that there could be performance gains if more memory were available.\n",
            "2023-12-26 17:30:54.143785: W tensorflow/tsl/framework/bfc_allocator.cc:296] Allocator (GPU_0_bfc) ran out of memory trying to allocate 6.67GiB with freed_by_count=0. The caller indicates that this is not a failure, but this may mean that there could be performance gains if more memory were available.\n",
            "2023-12-26 17:30:54.196458: W tensorflow/tsl/framework/bfc_allocator.cc:296] Allocator (GPU_0_bfc) ran out of memory trying to allocate 3.59GiB with freed_by_count=0. The caller indicates that this is not a failure, but this may mean that there could be performance gains if more memory were available.\n",
            "2023-12-26 17:30:54.196516: W tensorflow/tsl/framework/bfc_allocator.cc:296] Allocator (GPU_0_bfc) ran out of memory trying to allocate 3.59GiB with freed_by_count=0. The caller indicates that this is not a failure, but this may mean that there could be performance gains if more memory were available.\n",
            "2023-12-26 17:30:54.196544: W tensorflow/tsl/framework/bfc_allocator.cc:296] Allocator (GPU_0_bfc) ran out of memory trying to allocate 6.67GiB with freed_by_count=0. The caller indicates that this is not a failure, but this may mean that there could be performance gains if more memory were available.\n",
            "2023-12-26 17:30:54.309976: I tensorflow/compiler/xla/stream_executor/cuda/cuda_dnn.cc:442] Loaded cuDNN version 8700\n",
            "2023-12-26 17:30:54.343774: W tensorflow/tsl/framework/bfc_allocator.cc:296] Allocator (GPU_0_bfc) ran out of memory trying to allocate 7.16GiB with freed_by_count=0. The caller indicates that this is not a failure, but this may mean that there could be performance gains if more memory were available.\n",
            "2023-12-26 17:30:55.046454: I tensorflow/compiler/xla/stream_executor/cuda/cuda_dnn.cc:442] Loaded cuDNN version 8700\n",
            "  5%|▌         | 9/167 [03:55<32:01, 12.16s/it]   /tmp/ipykernel_16501/2615400817.py:42: RuntimeWarning: invalid value encountered in divide\n",
            "  iou = TP / (TP + FP + FN)\n",
            "  6%|▌         | 10/167 [04:04<29:29, 11.27s/it]"
          ]
        },
        {
          "name": "stdout",
          "output_type": "stream",
          "text": [
            "pixel accuracy:0.7343958548286543, mIoU:0.20758489679870973\n"
          ]
        },
        {
          "name": "stderr",
          "output_type": "stream",
          "text": [
            " 12%|█▏        | 20/167 [05:38<23:11,  9.47s/it]"
          ]
        },
        {
          "name": "stdout",
          "output_type": "stream",
          "text": [
            "pixel accuracy:0.7302876985311674, mIoU:0.1952900326722755\n"
          ]
        },
        {
          "name": "stderr",
          "output_type": "stream",
          "text": [
            " 18%|█▊        | 30/167 [07:11<21:16,  9.32s/it]"
          ]
        },
        {
          "name": "stdout",
          "output_type": "stream",
          "text": [
            "pixel accuracy:0.7343824517346734, mIoU:0.2367399972185437\n"
          ]
        },
        {
          "name": "stderr",
          "output_type": "stream",
          "text": [
            " 24%|██▍       | 40/167 [08:45<19:46,  9.34s/it]"
          ]
        },
        {
          "name": "stdout",
          "output_type": "stream",
          "text": [
            "pixel accuracy:0.7293901559144972, mIoU:0.23010125699642567\n"
          ]
        },
        {
          "name": "stderr",
          "output_type": "stream",
          "text": [
            " 30%|██▉       | 50/167 [10:19<18:22,  9.42s/it]"
          ]
        },
        {
          "name": "stdout",
          "output_type": "stream",
          "text": [
            "pixel accuracy:0.7318654152087017, mIoU:0.22963153168292508\n"
          ]
        },
        {
          "name": "stderr",
          "output_type": "stream",
          "text": [
            " 36%|███▌      | 60/167 [11:54<17:11,  9.64s/it]"
          ]
        },
        {
          "name": "stdout",
          "output_type": "stream",
          "text": [
            "pixel accuracy:0.7339949418299054, mIoU:0.2207377520793885\n"
          ]
        },
        {
          "name": "stderr",
          "output_type": "stream",
          "text": [
            " 42%|████▏     | 70/167 [13:28<15:10,  9.38s/it]"
          ]
        },
        {
          "name": "stdout",
          "output_type": "stream",
          "text": [
            "pixel accuracy:0.7304356746390714, mIoU:0.224216894607605\n"
          ]
        },
        {
          "name": "stderr",
          "output_type": "stream",
          "text": [
            " 48%|████▊     | 80/167 [15:01<13:35,  9.37s/it]"
          ]
        },
        {
          "name": "stdout",
          "output_type": "stream",
          "text": [
            "pixel accuracy:0.72997781657941, mIoU:0.22237104200898095\n"
          ]
        },
        {
          "name": "stderr",
          "output_type": "stream",
          "text": [
            " 54%|█████▍    | 90/167 [16:35<11:59,  9.35s/it]"
          ]
        },
        {
          "name": "stdout",
          "output_type": "stream",
          "text": [
            "pixel accuracy:0.7330500614847218, mIoU:0.22352254866015028\n"
          ]
        },
        {
          "name": "stderr",
          "output_type": "stream",
          "text": [
            " 60%|█████▉    | 100/167 [18:08<10:27,  9.37s/it]"
          ]
        },
        {
          "name": "stdout",
          "output_type": "stream",
          "text": [
            "pixel accuracy:0.7380844732028365, mIoU:0.21754904926213314\n"
          ]
        },
        {
          "name": "stderr",
          "output_type": "stream",
          "text": [
            " 66%|██████▌   | 110/167 [19:43<09:05,  9.58s/it]"
          ]
        },
        {
          "name": "stdout",
          "output_type": "stream",
          "text": [
            "pixel accuracy:0.7434422752594196, mIoU:0.2183564561569375\n"
          ]
        },
        {
          "name": "stderr",
          "output_type": "stream",
          "text": [
            " 72%|███████▏  | 120/167 [21:14<06:22,  8.14s/it]"
          ]
        },
        {
          "name": "stdout",
          "output_type": "stream",
          "text": [
            "pixel accuracy:0.747896129197371, mIoU:0.2174967583571593\n"
          ]
        },
        {
          "name": "stderr",
          "output_type": "stream",
          "text": [
            " 78%|███████▊  | 130/167 [22:34<04:45,  7.71s/it]"
          ]
        },
        {
          "name": "stdout",
          "output_type": "stream",
          "text": [
            "pixel accuracy:0.7520767913075149, mIoU:0.21632577169990158\n"
          ]
        },
        {
          "name": "stderr",
          "output_type": "stream",
          "text": [
            " 84%|████████▍ | 140/167 [23:53<03:08,  6.97s/it]"
          ]
        },
        {
          "name": "stdout",
          "output_type": "stream",
          "text": [
            "pixel accuracy:0.755494759256177, mIoU:0.21561852963419265\n"
          ]
        },
        {
          "name": "stderr",
          "output_type": "stream",
          "text": [
            " 90%|████████▉ | 150/167 [25:17<02:38,  9.31s/it]"
          ]
        },
        {
          "name": "stdout",
          "output_type": "stream",
          "text": [
            "pixel accuracy:0.7566498225521037, mIoU:0.2165497587867709\n"
          ]
        },
        {
          "name": "stderr",
          "output_type": "stream",
          "text": [
            " 96%|█████████▌| 160/167 [26:58<01:10, 10.03s/it]"
          ]
        },
        {
          "name": "stdout",
          "output_type": "stream",
          "text": [
            "pixel accuracy:0.7574370979397163, mIoU:0.21694253008024764\n"
          ]
        },
        {
          "name": "stderr",
          "output_type": "stream",
          "text": [
            "100%|██████████| 167/167 [29:02<00:00, 10.44s/it]"
          ]
        },
        {
          "name": "stdout",
          "output_type": "stream",
          "text": [
            "final pixel accuracy:0.7599767668441958, mIoU:0.22153910138396324\n"
          ]
        },
        {
          "name": "stderr",
          "output_type": "stream",
          "text": [
            "\n",
            "/tmp/ipykernel_16501/2615400817.py:48: RuntimeWarning: invalid value encountered in divide\n",
            "  iou = TP / (TP + FP + FN)\n"
          ]
        }
      ],
      "source": [
        "N_CLASS = 27\n",
        "TP = np.zeros(N_CLASS)\n",
        "FP = np.zeros(N_CLASS)\n",
        "FN = np.zeros(N_CLASS)\n",
        "ALL = 0\n",
        "\n",
        "# Initialize DiffSeg\n",
        "KL_THRESHOLD = [1.1]*3 # This controls the merge threshold for masks (1.1 for CoCo-Stuff and 0.9 for Cityscapes)\n",
        "NUM_POINTS = 16\n",
        "REFINEMENT = False # Whether use K-Means refinement. Increase inference time from 2s to 3s.\n",
        "\n",
        "with strategy.scope():\n",
        "  segmentor = DiffSeg(KL_THRESHOLD, REFINEMENT, NUM_POINTS)\n",
        "\n",
        "  for i,batch in enumerate(tqdm(val_dataset)):\n",
        "    images = batch[\"images\"]\n",
        "    labels = fine_to_coarse_map(batch[\"labels\"][:,:,:,0])\n",
        "    latent = vae(images, training=False)\n",
        "\n",
        "    # Extract attention maps from a single iteration of diffusion.\n",
        "    images, weight_64, weight_32, weight_16, weight_8, _, _, _, _ = model.text_to_image(\n",
        "      None,\n",
        "      batch_size=images.shape[0],\n",
        "      latent=latent,\n",
        "      timestep=300\n",
        "    )\n",
        "\n",
        "    # Segment using DiffSeg.\n",
        "    pred = segmentor.segment(weight_64, weight_32, weight_16, weight_8) # b x 512 x 512\n",
        "    \n",
        "    # Run hungarian matching for evaluation.\n",
        "    tp, fp, fn, all = hungarian_matching(pred, labels, N_CLASS)\n",
        "    TP += tp\n",
        "    FP += fp\n",
        "    FN += fn\n",
        "    ALL += all\n",
        "\n",
        "    # Print accuracy and mean IoU occasionally.\n",
        "    if (i+1) % 10 == 0:\n",
        "      acc = TP.sum()/ALL\n",
        "      iou = TP / (TP + FP + FN)\n",
        "      miou = np.nanmean(iou)\n",
        "      print(\"pixel accuracy:{}, mIoU:{}\".format(acc, miou))\n",
        "\n",
        "# Print final accuracy and mean IoU.\n",
        "acc = TP.sum()/ALL\n",
        "iou = TP / (TP + FP + FN)\n",
        "miou = np.nanmean(iou)\n",
        "print(\"final pixel accuracy:{}, mIoU:{}\".format(acc, miou))"
      ]
    }
  ],
  "metadata": {
    "colab": {
      "collapsed_sections": [
        "KxFEgBH-MRqO",
        "eKmvvYcRMpDW"
      ],
      "last_runtime": {
        "build_target": "//learning/grp/tools/ml_python:ml_notebook",
        "kind": "private"
      },
      "private_outputs": true,
      "provenance": [
        {
          "file_id": "1MfflAKfkM4uimNb-plpgq8dDJf7-vUUg",
          "timestamp": 1691431782950
        }
      ],
      "toc_visible": true
    },
    "kernelspec": {
      "display_name": "Python 3",
      "name": "python3"
    },
    "language_info": {
      "codemirror_mode": {
        "name": "ipython",
        "version": 3
      },
      "file_extension": ".py",
      "mimetype": "text/x-python",
      "name": "python",
      "nbconvert_exporter": "python",
      "pygments_lexer": "ipython3",
      "version": "3.9.18"
    }
  },
  "nbformat": 4,
  "nbformat_minor": 0
}
